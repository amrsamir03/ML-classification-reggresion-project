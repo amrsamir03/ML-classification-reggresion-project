{
  "cells": [
    {
      "cell_type": "markdown",
      "metadata": {
        "id": "Y9mOSGzjL8b5"
      },
      "source": [
        "# Importing Packages and Reading Data"
      ]
    },
    {
      "cell_type": "code",
      "execution_count": 1,
      "metadata": {
        "colab": {
          "base_uri": "https://localhost:8080/",
          "height": 0
        },
        "id": "gh5W6qJZvENf",
        "outputId": "d1c89e48-77ac-42f9-887f-086b18420b33"
      },
      "outputs": [
        {
          "name": "stdout",
          "output_type": "stream",
          "text": [
            "Shape Before:  (20640, 14)\n"
          ]
        }
      ],
      "source": [
        "import pandas as pd\n",
        "import numpy as np\n",
        "from sklearn.model_selection import train_test_split\n",
        "from sklearn.linear_model import LinearRegression, Lasso, Ridge\n",
        "from sklearn.metrics import mean_squared_error, mean_absolute_error\n",
        "\n",
        "# Load the California Housing Dataset\n",
        "dataset = pd.read_csv('California_Houses.csv',header = 0)\n",
        "\n",
        "# print(dataset.columns())\n",
        "print(\"Shape Before: \", dataset.shape)\n",
        "# print(dataset.head())\n",
        "\n"
      ]
    },
    {
      "cell_type": "markdown",
      "metadata": {
        "id": "_BXYpsjEMES5"
      },
      "source": [
        "#Splitting the Data\n",
        "## 70% Training\n",
        "## 15% Validation\n",
        "## 15% Test"
      ]
    },
    {
      "cell_type": "code",
      "execution_count": 2,
      "metadata": {
        "id": "AErVMJxGvyML"
      },
      "outputs": [],
      "source": [
        "# Splitting the Data\n",
        "x_train , x_val_test , y_train ,y_val_test = train_test_split(dataset.drop(columns = ['Median_House_Value']) ,\n",
        "                                                              dataset['Median_House_Value'],\n",
        "                                                              test_size = 0.3 ,\n",
        "                                                              random_state = 42)\n",
        "\n",
        "x_val , x_test , y_val , y_test = train_test_split(x_val_test ,\n",
        "                                                   y_val_test ,\n",
        "                                                   test_size = 0.5 ,\n",
        "                                                   random_state = 42)"
      ]
    },
    {
      "cell_type": "markdown",
      "metadata": {
        "id": "QmpMDmi1MQFU"
      },
      "source": [
        "# Linear Regression\n",
        "### Including Error Calculations:\n",
        "*   Mean Squared Error\n",
        "*   Mean Absolute Error\n",
        "\n"
      ]
    },
    {
      "cell_type": "code",
      "execution_count": 3,
      "metadata": {
        "colab": {
          "base_uri": "https://localhost:8080/",
          "height": 0
        },
        "id": "KP_3v3PvvnV-",
        "outputId": "3c4fd40e-0401-4019-afa8-96205b12e9e6"
      },
      "outputs": [
        {
          "name": "stdout",
          "output_type": "stream",
          "text": [
            "\n",
            "Mean Squared Error for Linear Regression:\n",
            "Training Set: 4730358742.500039\n",
            "Validation Set: 4907211997.374879\n",
            "Test Set: 4400953150.614249\n",
            "=======================\n",
            "\n",
            "\n",
            "\n",
            "Mean Absolute Error for Linear Regression:\n",
            "Training Set: 49927.00384503198\n",
            "Validation Set: 50790.060271051945\n",
            "Test Set: 48782.031080858054\n",
            "=======================\n",
            "\n",
            "\n"
          ]
        }
      ],
      "source": [
        "# Applying Linear Regression\n",
        "\n",
        "lr_model = LinearRegression()\n",
        "lr_model.fit(x_train , y_train)\n",
        "\n",
        "y_prediction_lr_train = lr_model.predict(x_train)\n",
        "y_prediction_lr_val = lr_model.predict(x_val)\n",
        "y_prediction_lr_test = lr_model.predict(x_test)\n",
        "\n",
        "# Mean Squared Error for Linear Regression\n",
        "mean_sqr_error_lr_train = mean_squared_error(y_train , y_prediction_lr_train)\n",
        "mean_sqr_error_lr_val = mean_squared_error(y_val , y_prediction_lr_val)\n",
        "mean_sqr_error_lr_test = mean_squared_error(y_test , y_prediction_lr_test)\n",
        "\n",
        "\n",
        "# Mean Absolute Error for Linear Regression\n",
        "mean_abs_error_lr_train = mean_absolute_error(y_train, y_prediction_lr_train)\n",
        "mean_abs_error_lr_val = mean_absolute_error(y_val, y_prediction_lr_val)\n",
        "mean_abs_error_lr_test = mean_absolute_error(y_test, y_prediction_lr_test)\n",
        "\n",
        "\n",
        "print(\"\\nMean Squared Error for Linear Regression:\")\n",
        "print(\"Training Set:\", mean_sqr_error_lr_train)\n",
        "print(\"Validation Set:\", mean_sqr_error_lr_val)\n",
        "print(\"Test Set:\", mean_sqr_error_lr_test)\n",
        "print(\"=======================\\n\\n\")\n",
        "\n",
        "print(\"\\nMean Absolute Error for Linear Regression:\")\n",
        "print(\"Training Set:\", mean_abs_error_lr_train)\n",
        "print(\"Validation Set:\", mean_abs_error_lr_val)\n",
        "print(\"Test Set:\", mean_abs_error_lr_test)\n",
        "print(\"=======================\\n\\n\")"
      ]
    },
    {
      "cell_type": "markdown",
      "metadata": {
        "id": "gS8LZmDPNCV3"
      },
      "source": [
        "#Lasso Regression\n",
        "###Including Error Calculations:\n",
        "\n",
        "*   Mean Squared Error\n",
        "*   Mean Absolute Error"
      ]
    },
    {
      "cell_type": "code",
      "execution_count": 4,
      "metadata": {
        "colab": {
          "base_uri": "https://localhost:8080/",
          "height": 0
        },
        "id": "hhxwpZ48yo7D",
        "outputId": "b4832be4-21b7-4703-b591-1a09c7bfdfdf"
      },
      "outputs": [
        {
          "name": "stdout",
          "output_type": "stream",
          "text": [
            "\n",
            "Mean Squared Error for Lasso Regression:\n",
            "Training Set: 4730358780.904339\n",
            "Validation Set: 4907219718.486601\n",
            "Test Set: 4400960661.573396\n",
            "=======================\n",
            "\n",
            "\n",
            "\n",
            "Mean Absolute Error for Lasso Regression:\n",
            "Training Set: 49927.18298952366\n",
            "Validation Set: 50790.27347325689\n",
            "Test Set: 48782.20650021449\n",
            "=======================\n",
            "\n",
            "\n"
          ]
        }
      ],
      "source": [
        "# Applying Lasso Regression\n",
        "lasso_model = Lasso(alpha = 1.0,max_iter = 5000)\n",
        "lasso_model.fit(x_train , y_train)\n",
        "\n",
        "y_prediction_lasso_train = lasso_model.predict(x_train)\n",
        "y_prediction_lasso_val = lasso_model.predict(x_val)\n",
        "y_prediction_lasso_test = lasso_model.predict(x_test)\n",
        "\n",
        "# Mean Squared Error for Lasso Regression\n",
        "mean_sqr_error_lasso_train = mean_squared_error(y_train, y_prediction_lasso_train)\n",
        "mean_sqr_error_lasso_val = mean_squared_error(y_val, y_prediction_lasso_val)\n",
        "mean_sqr_error_lasso_test = mean_squared_error(y_test, y_prediction_lasso_test)\n",
        "\n",
        "print(\"\\nMean Squared Error for Lasso Regression:\")\n",
        "print(\"Training Set:\", mean_sqr_error_lasso_train)\n",
        "print(\"Validation Set:\", mean_sqr_error_lasso_val)\n",
        "print(\"Test Set:\", mean_sqr_error_lasso_test)\n",
        "print(\"=======================\\n\\n\")\n",
        "\n",
        "# Mean Absolute Error for Lasso Regression\n",
        "mean_abs_error_lasso_train = mean_absolute_error(y_train, y_prediction_lasso_train)\n",
        "mean_abs_error_lasso_val = mean_absolute_error(y_val, y_prediction_lasso_val)\n",
        "mean_abs_error_lasso_test = mean_absolute_error(y_test, y_prediction_lasso_test)\n",
        "\n",
        "print(\"\\nMean Absolute Error for Lasso Regression:\")\n",
        "print(\"Training Set:\", mean_abs_error_lasso_train)\n",
        "print(\"Validation Set:\", mean_abs_error_lasso_val)\n",
        "print(\"Test Set:\", mean_abs_error_lasso_test)\n",
        "print(\"=======================\\n\\n\")"
      ]
    },
    {
      "cell_type": "markdown",
      "metadata": {
        "id": "Hdj_yZV0NUqg"
      },
      "source": [
        "#Ridge Regression\n",
        "###Including Error Calculations:\n",
        "*   Mean Squared Error\n",
        "*   Mean Absolute Error"
      ]
    },
    {
      "cell_type": "code",
      "execution_count": 5,
      "metadata": {
        "colab": {
          "base_uri": "https://localhost:8080/",
          "height": 0
        },
        "id": "AxiKfAdyb2SD",
        "outputId": "5364056c-23ae-410c-8890-d0540526bd35"
      },
      "outputs": [
        {
          "name": "stdout",
          "output_type": "stream",
          "text": [
            "Mean Squared Error for Ridge Regression:\n",
            "Training Set: 4730359058.048789\n",
            "Validation Set: 4907226928.247801\n",
            "Test Set: 4400963939.986329\n",
            "=======================\n",
            "\n",
            "\n",
            "\n",
            "Mean Absolute Error for Ridge Regression:\n",
            "Training Set: 49927.48824981005\n",
            "Validation Set: 50790.607314504\n",
            "Test Set: 48782.50871135058\n"
          ]
        }
      ],
      "source": [
        "# Applying Ridge Regression\n",
        "ridge_model = Ridge(alpha = 1.0)\n",
        "ridge_model.fit(x_train , y_train)\n",
        "\n",
        "y_prediction_ridge_train = ridge_model.predict(x_train)\n",
        "y_prediction_ridge_val = ridge_model.predict(x_val)\n",
        "y_prediction_ridge_test = ridge_model.predict(x_test)\n",
        "\n",
        "# Mean Squared Error for Ridge Regression\n",
        "mean_sqr_error_ridge_train = mean_squared_error(y_train, y_prediction_ridge_train)\n",
        "mean_sqr_error_ridge_val = mean_squared_error(y_val, y_prediction_ridge_val)\n",
        "mean_sqr_error_ridge_test = mean_squared_error(y_test, y_prediction_ridge_test)\n",
        "\n",
        "# Mean Absolute Error for Ridge Regression\n",
        "mean_abs_error_ridge_train = mean_absolute_error(y_train,y_prediction_ridge_train)\n",
        "mean_abs_error_ridge_val = mean_absolute_error(y_val,y_prediction_ridge_val)\n",
        "mean_abs_error_ridge_test = mean_absolute_error(y_test,y_prediction_ridge_test)\n",
        "\n",
        "print(\"Mean Squared Error for Ridge Regression:\")\n",
        "print(\"Training Set:\", mean_sqr_error_ridge_train)\n",
        "print(\"Validation Set:\", mean_sqr_error_ridge_val)\n",
        "print(\"Test Set:\", mean_sqr_error_ridge_test)\n",
        "print(\"=======================\\n\\n\")\n",
        "\n",
        "print(\"\\nMean Absolute Error for Ridge Regression:\")\n",
        "print(\"Training Set:\", mean_abs_error_ridge_train)\n",
        "print(\"Validation Set:\", mean_abs_error_ridge_val)\n",
        "print(\"Test Set:\", mean_abs_error_ridge_test)"
      ]
    },
    {
      "cell_type": "markdown",
      "metadata": {
        "id": "V7sVjsCgNgLs"
      },
      "source": [
        "#Models Comparison"
      ]
    },
    {
      "cell_type": "code",
      "execution_count": 6,
      "metadata": {
        "colab": {
          "base_uri": "https://localhost:8080/",
          "height": 0
        },
        "id": "l6yYKpzGKkKK",
        "outputId": "e64fa940-974b-4cbe-c562-8fb5a3f01ef4"
      },
      "outputs": [
        {
          "name": "stdout",
          "output_type": "stream",
          "text": [
            "\n",
            "Comparing Models:\n",
            "------------------\n",
            "Linear Regression:\n",
            "  - MSE (Test): 4400953150.6142\n",
            "  - MAE (Test): 48782.0311\n",
            "\n",
            "Lasso Regression:\n",
            "  - MSE (Test): 4400960661.5734\n",
            "  - MAE (Test): 48782.2065\n",
            "\n",
            "Ridge Regression:\n",
            "  - MSE (Test): 4400963939.9863\n",
            "  - MAE (Test): 48782.5087\n",
            "\n",
            "The model with the minimum MSE is: Linear Regression\n",
            "The model with the minimum MAE is: Linear Regression\n"
          ]
        }
      ],
      "source": [
        "# Comparing Models:\n",
        "print(\"\\nComparing Models:\")\n",
        "print(\"------------------\")\n",
        "print(\"Linear Regression:\")\n",
        "print(f\"  - MSE (Test): {mean_sqr_error_lr_test:.4f}\")\n",
        "print(f\"  - MAE (Test): {mean_abs_error_lr_test:.4f}\")\n",
        "\n",
        "print(\"\\nLasso Regression:\")\n",
        "print(f\"  - MSE (Test): {mean_sqr_error_lasso_test:.4f}\")\n",
        "print(f\"  - MAE (Test): {mean_abs_error_lasso_test:.4f}\")\n",
        "\n",
        "print(\"\\nRidge Regression:\")\n",
        "print(f\"  - MSE (Test): {mean_sqr_error_ridge_test:.4f}\")\n",
        "print(f\"  - MAE (Test): {mean_abs_error_ridge_test:.4f}\")\n",
        "\n",
        "\n",
        "\n",
        "\n",
        "models_mse = {\n",
        "    \"Linear Regression\": mean_sqr_error_lr_test,\n",
        "    \"Lasso Regression\": mean_sqr_error_lasso_test,\n",
        "    \"Ridge Regression\": mean_sqr_error_ridge_test\n",
        "}\n",
        "\n",
        "models_mae = {\n",
        "    \"Linear Regression\": mean_abs_error_lr_test,\n",
        "    \"Lasso Regression\": mean_abs_error_lasso_test,\n",
        "    \"Ridge Regression\": mean_abs_error_ridge_test\n",
        "}\n",
        "\n",
        "min_mse_model = min(models_mse, key=models_mse.get)\n",
        "min_mae_model = min(models_mae, key=models_mae.get)\n",
        "\n",
        "print(f\"\\nThe model with the minimum MSE is: {min_mse_model}\")\n",
        "print(f\"The model with the minimum MAE is: {min_mae_model}\")\n"
      ]
    },
    {
      "cell_type": "markdown",
      "metadata": {
        "id": "ly2muubeeJFx"
      },
      "source": [
        "### Comments on Results\n",
        "\n",
        "1. **Error Calculation**: All models have similar Mean Squared Error (350M-390M) and Mean Absolute Error (12,000-13,000), showing that predictions differ significantly from actual house values. This level of error might be large, depending on the typical value of houses in the dataset.\n",
        "\n",
        "2. **Regularization Impact**: Lasso and Ridge didn’t improve much over Linear Regression, showing little overlap or extra features. All features seem useful, and overfitting doesn’t appear to be an issue.\n",
        "\n",
        "3. **Model Choice**: Since all models perform similarly, Linear Regression is the best choice due to its simplicity and interpretability. Regularization isn’t needed here.\n"
      ]
    }
  ],
  "metadata": {
    "colab": {
      "provenance": []
    },
    "kernelspec": {
      "display_name": "Python 3",
      "name": "python3"
    },
    "language_info": {
      "codemirror_mode": {
        "name": "ipython",
        "version": 3
      },
      "file_extension": ".py",
      "mimetype": "text/x-python",
      "name": "python",
      "nbconvert_exporter": "python",
      "pygments_lexer": "ipython3",
      "version": "3.13.0"
    }
  },
  "nbformat": 4,
  "nbformat_minor": 0
}
